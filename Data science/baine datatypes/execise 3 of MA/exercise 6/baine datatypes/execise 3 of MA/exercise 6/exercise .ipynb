{
 "cells": [
  {
   "cell_type": "code",
   "execution_count": 3,
   "metadata": {},
   "outputs": [
    {
     "name": "stdout",
     "output_type": "stream",
     "text": [
      "22.03125\n"
     ]
    }
   ],
   "source": [
    "# mean f list \n",
    "import numpy as np\n",
    "list_1_Age:[20,27,21,23,19,24,21,19,19,22,25,27,21,19,21,21,20,23,20,20,27,23,21,19,20,22,21,23,20,30,23,24]\n",
    "Age_array=[20,27,21,23,19,24,21,19,19,22,25,27,21,19,21,21,20,23,20,20,27,23,21,19,20,22,21,23,20,30,23,24]\n",
    "Age_array= np.mean(Age_array)\n",
    "print(Age_array)"
   ]
  },
  {
   "cell_type": "code",
   "execution_count": 4,
   "metadata": {},
   "outputs": [
    {
     "name": "stdout",
     "output_type": "stream",
     "text": [
      "2.721263206215084\n"
     ]
    }
   ],
   "source": [
    "#standard variation \n",
    "import numpy as np\n",
    "list_1_Age:[20,27,21,23,19,24,21,19,19,22,25,27,21,19,21,21,20,23,20,20,27,23,21,19,20,22,21,23,20,30,23,24]\n",
    "Age_array=[20,27,21,23,19,24,21,19,19,22,25,27,21,19,21,21,20,23,20,20,27,23,21,19,20,22,21,23,20,30,23,24]\n",
    "Age_array= np.std(Age_array)\n",
    "print(Age_array)"
   ]
  },
  {
   "cell_type": "code",
   "execution_count": 6,
   "metadata": {},
   "outputs": [
    {
     "name": "stdout",
     "output_type": "stream",
     "text": [
      "7.4052734375\n"
     ]
    }
   ],
   "source": [
    "#Variance \n",
    "import numpy as np \n",
    "list_1_Age:[20,27,21,23,19,24,21,19,19,22,25,27,21,19,21,21,20,23,20,20,27,23,21,19,20,22,21,23,20,30,23,24]\n",
    "Age_array=[20,27,21,23,19,24,21,19,19,22,25,27,21,19,21,21,20,23,20,20,27,23,21,19,20,22,21,23,20,30,23,24]\n",
    "Age_array= np.var(Age_array)\n",
    "print(Age_array)\n"
   ]
  },
  {
   "cell_type": "code",
   "execution_count": 12,
   "metadata": {},
   "outputs": [
    {
     "name": "stdout",
     "output_type": "stream",
     "text": [
      "58.5\n"
     ]
    }
   ],
   "source": [
    "#List 2\n",
    "import numpy as np\n",
    "list_2_weight=[74,47,54,30,59,65,69,57,55,78,60,80,58,50,50,50,49,70,62,55,55,60,45,70,55,67,67,64,50,65,52,50]\n",
    "weight_array=[74,47,54,30,59,65,69,57,55,78,60,80,58,50,50,50,49,70,62,55,55,60,45,70,55,67,67,64,50,65,52,50]\n",
    "weight_array=np.mean(weight_array)\n",
    "print(weight_array)\n"
   ]
  },
  {
   "cell_type": "code",
   "execution_count": 11,
   "metadata": {},
   "outputs": [
    {
     "name": "stdout",
     "output_type": "stream",
     "text": [
      "10.347101043287438\n"
     ]
    }
   ],
   "source": [
    "#standard variation \n",
    "import numpy as np\n",
    "list_2_weight=[74,47,54,30,59,65,69,57,55,78,60,80,58,50,50,50,49,70,62,55,55,60,45,70,55,67,67,64,50,65,52,50]\n",
    "weight_array=[74,47,54,30,59,65,69,57,55,78,60,80,58,50,50,50,49,70,62,55,55,60,45,70,55,67,67,64,50,65,52,50]\n",
    "weight_array=np.std(weight_array)\n",
    "print(weight_array)"
   ]
  },
  {
   "cell_type": "code",
   "execution_count": 9,
   "metadata": {},
   "outputs": [
    {
     "name": "stdout",
     "output_type": "stream",
     "text": [
      "107.0625\n"
     ]
    }
   ],
   "source": [
    "#variance\n",
    "import numpy as np\n",
    "list_2_weight=[74,47,54,30,59,65,69,57,55,78,60,80,58,50,50,50,49,70,62,55,55,60,45,70,55,67,67,64,50,65,52,50]\n",
    "weight_array=[74,47,54,30,59,65,69,57,55,78,60,80,58,50,50,50,49,70,62,55,55,60,45,70,55,67,67,64,50,65,52,50]\n",
    "weight_array=np.var(weight_array)\n",
    "print(weight_array)"
   ]
  },
  {
   "cell_type": "code",
   "execution_count": 7,
   "metadata": {},
   "outputs": [
    {
     "name": "stdout",
     "output_type": "stream",
     "text": [
      "155.58\n"
     ]
    }
   ],
   "source": [
    "#list 3\n",
    "import numpy as np\n",
    "list_3_height=[77.8,157.48,185.42,175.26,157.48,167.64,185.42,154.94,162.56,175.26,172.72,188.42,165.1,175.26,175.26,160.02,162.56,101.6,162.56,93.98,165.1,157.48,101.6,170.18,175.26,137.16,165.1,157.48,104.14,170.18,162.56] \n",
    "height_array=[77.8,157.48,185.42,175.26,157.48,167.64,185.42,154.94,162.56,175.26,172.72,188.42,165.1,175.26,175.26,160.02,162.56,101.6,162.56,93.98,165.1,157.48,101.6,170.18,175.26,137.16,165.1,157.48,104.14,170.18,162.56]\n",
    "height_array=np.mean(height_array)\n",
    "print(height_array)"
   ]
  },
  {
   "cell_type": "code",
   "execution_count": 8,
   "metadata": {},
   "outputs": [
    {
     "name": "stdout",
     "output_type": "stream",
     "text": [
      "28.295700801905713\n"
     ]
    }
   ],
   "source": [
    "#list 3\n",
    "#standard variation\n",
    "import numpy as np\n",
    "list_3_height=[77.8,157.48,185.42,175.26,157.48,167.64,185.42,154.94,162.56,175.26,172.72,188.42,165.1,175.26,175.26,160.02,162.56,101.6,162.56,93.98,165.1,157.48,101.6,170.18,175.26,137.16,165.1,157.48,104.14,170.18,162.56]\n",
    "height_array=[77.8,157.48,185.42,175.26,157.48,167.64,185.42,154.94,162.56,175.26,172.72,188.42,165.1,175.26,175.26,160.02,162.56,101.6,162.56,93.98,165.1,157.48,101.6,170.18,175.26,137.16,165.1,157.48,104.14,170.18,162.56]\n",
    "height_array=np.std(height_array)\n",
    "print(height_array)"
   ]
  },
  {
   "cell_type": "code",
   "execution_count": 10,
   "metadata": {},
   "outputs": [
    {
     "name": "stdout",
     "output_type": "stream",
     "text": [
      "800.6466838709675\n"
     ]
    }
   ],
   "source": [
    "#list 3\n",
    "#variance\n",
    "import numpy as np\n",
    "list_3_height=[77.8,157.48,185.42,175.26,157.48,167.64,185.42,154.94,162.56,175.26,172.72,188.42,165.1,175.26,175.26,160.02,162.56,101.6,162.56,93.98,165.1,157.48,101.6,170.18,175.26,137.16,165.1,157.48,104.14,170.18,162.56]\n",
    "height_array=[77.8,157.48,185.42,175.26,157.48,167.64,185.42,154.94,162.56,175.26,172.72,188.42,165.1,175.26,175.26,160.02,162.56,101.6,162.56,93.98,165.1,157.48,101.6,170.18,175.26,137.16,165.1,157.48,104.14,170.18,162.56]\n",
    "height_array=np.var(height_array)\n",
    "print(height_array)"
   ]
  }
 ],
 "metadata": {
  "kernelspec": {
   "display_name": "Python 3",
   "language": "python",
   "name": "python3"
  },
  "language_info": {
   "codemirror_mode": {
    "name": "ipython",
    "version": 3
   },
   "file_extension": ".py",
   "mimetype": "text/x-python",
   "name": "python",
   "nbconvert_exporter": "python",
   "pygments_lexer": "ipython3",
   "version": "3.11.4"
  },
  "orig_nbformat": 4
 },
 "nbformat": 4,
 "nbformat_minor": 2
}
