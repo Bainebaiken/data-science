{
 "cells": [
  {
   "cell_type": "markdown",
   "metadata": {},
   "source": [
    "linear regression"
   ]
  },
  {
   "cell_type": "code",
   "execution_count": 24,
   "metadata": {},
   "outputs": [],
   "source": [
    "import pandas as pd"
   ]
  },
  {
   "cell_type": "code",
   "execution_count": 25,
   "metadata": {},
   "outputs": [
    {
     "name": "stdout",
     "output_type": "stream",
     "text": [
      "Requirement already satisfied: statsmodels in c:\\users\\student\\appdata\\local\\programs\\python\\python311\\lib\\site-packages (0.14.0)Note: you may need to restart the kernel to use updated packages.\n",
      "\n",
      "Requirement already satisfied: numpy>=1.18 in c:\\users\\student\\appdata\\local\\programs\\python\\python311\\lib\\site-packages (from statsmodels) (1.25.2)\n",
      "Requirement already satisfied: scipy!=1.9.2,>=1.4 in c:\\users\\student\\appdata\\local\\programs\\python\\python311\\lib\\site-packages (from statsmodels) (1.11.3)\n",
      "Requirement already satisfied: pandas>=1.0 in c:\\users\\student\\appdata\\local\\programs\\python\\python311\\lib\\site-packages (from statsmodels) (2.1.1)\n",
      "Requirement already satisfied: patsy>=0.5.2 in c:\\users\\student\\appdata\\local\\programs\\python\\python311\\lib\\site-packages (from statsmodels) (0.5.3)\n",
      "Requirement already satisfied: packaging>=21.3 in c:\\users\\student\\appdata\\roaming\\python\\python311\\site-packages (from statsmodels) (23.1)\n",
      "Requirement already satisfied: python-dateutil>=2.8.2 in c:\\users\\student\\appdata\\roaming\\python\\python311\\site-packages (from pandas>=1.0->statsmodels) (2.8.2)\n",
      "Requirement already satisfied: pytz>=2020.1 in c:\\users\\student\\appdata\\local\\programs\\python\\python311\\lib\\site-packages (from pandas>=1.0->statsmodels) (2023.3.post1)\n",
      "Requirement already satisfied: tzdata>=2022.1 in c:\\users\\student\\appdata\\local\\programs\\python\\python311\\lib\\site-packages (from pandas>=1.0->statsmodels) (2023.3)\n",
      "Requirement already satisfied: six in c:\\users\\student\\appdata\\roaming\\python\\python311\\site-packages (from patsy>=0.5.2->statsmodels) (1.16.0)\n"
     ]
    },
    {
     "name": "stderr",
     "output_type": "stream",
     "text": [
      "\n",
      "[notice] A new release of pip is available: 23.1.2 -> 23.3.1\n",
      "[notice] To update, run: python.exe -m pip install --upgrade pip\n"
     ]
    }
   ],
   "source": [
    "pip install statsmodels"
   ]
  },
  {
   "cell_type": "code",
   "execution_count": 26,
   "metadata": {},
   "outputs": [],
   "source": [
    "import scipy.stats"
   ]
  },
  {
   "cell_type": "code",
   "execution_count": 27,
   "metadata": {},
   "outputs": [],
   "source": [
    "from scipy.stats import linregress"
   ]
  },
  {
   "cell_type": "code",
   "execution_count": 28,
   "metadata": {},
   "outputs": [],
   "source": [
    "import statsmodels.formula.api as smf"
   ]
  },
  {
   "cell_type": "code",
   "execution_count": 29,
   "metadata": {},
   "outputs": [
    {
     "name": "stdout",
     "output_type": "stream",
     "text": [
      "     S/N             student_names  age weight   height  addmission\n",
      "0    1.0            Adokorac Nancy   20     74    177.8           1\n",
      "1    2.0   Amutuhaire Faith Ahabwe   27     47   157.48           1\n",
      "2    3.0     KWAGALA JOANNA VICTOR   21     54   185.42           1\n",
      "3    4.0              mahoro cathy   23     30   185.42           1\n",
      "4    5.0  Mbabazi Hawa Bint Edrisa   19     59   175.26           1\n",
      "5    6.0       Nakanjako josephine   24     65   175.26           1\n",
      "6    7.0            Nanteza Dorcus   21     69   157.48           1\n",
      "7    8.0             Mbabazi Angel   19     57   167.64           1\n",
      "8    9.0            Namara Racheal   19     55   154.94           1\n",
      "9   10.0       Lwamulungi Sheillah   22     78   162.56           1\n",
      "10   NaN           Nakawuka Sandra   25     60   175.26           1\n",
      "11   NaN   Achola Gloria Fortunate   27     80   172.72           1\n",
      "12   NaN             Nagawa Esther   21     58   188.42           1\n",
      "13   NaN           wanjiku hananny   19     50    165.1           1\n",
      "14   NaN            babirye Sandra   21     50   175.26           1\n",
      "15   NaN          nakagga shanitah   21     50   175.26           1\n",
      "16   NaN    Wembabazi Vivian Ritah   20     49   160.02           1\n",
      "17   NaN   Nanziri Ritah Namayanja   23     70   162.56           1\n",
      "18   NaN            Nasejje Mariam   20     62    101.6           1\n",
      "19   NaN  Namukose Jolline Edriana   20     55   162.56           1\n",
      "20   NaN      Agatha Faith Anyango   27     55    93.98           1\n",
      "21   NaN              Kirabo Sarah   23     60    165.1           1\n",
      "22   NaN          Nansalire Anitah   21     45     63.5           1\n",
      "23   NaN             Nalugo gladys   19     70    101.6           1\n",
      "24   NaN            Namakula Allen   20     55   170.18           1\n",
      "25   NaN           Tukahirwa emily   22     67   175.26           1\n",
      "26   NaN            Shamirah Ahmed   21     67   137.16           1\n",
      "27   NaN          Ameso lmmaculate   23     64    165.1           1\n",
      "28   NaN                Ayoo Teddy   20     50   157.48           1\n",
      "29   NaN                Biira Mary   30     65   104.14           1\n",
      "30   NaN        Aloyo Brenda Ojera   23     52   170.18           1\n",
      "31   NaN        Ayebale Immaculate   24     50   162.56           1\n"
     ]
    }
   ],
   "source": [
    "df=pd.read_excel(r\"c:\\Users\\Student\\Desktop\\WITU COHORT 3\\YEAR ONE\\SEMITER ONE\\Data science\\data\\dataset.xlsx\")\n",
    "print(df)"
   ]
  },
  {
   "cell_type": "code",
   "execution_count": 30,
   "metadata": {},
   "outputs": [],
   "source": [
    "df =df[\"age\"]"
   ]
  },
  {
   "cell_type": "code",
   "execution_count": null,
   "metadata": {},
   "outputs": [],
   "source": [
    "df=pd.read_excel(r\"\")"
   ]
  },
  {
   "cell_type": "code",
   "execution_count": 31,
   "metadata": {},
   "outputs": [
    {
     "name": "stdout",
     "output_type": "stream",
     "text": [
      "     S/N             student_names  age weight   height  addmission\n",
      "0    1.0            Adokorac Nancy   20     74    177.8           1\n",
      "1    2.0   Amutuhaire Faith Ahabwe   27     47   157.48           1\n",
      "2    3.0     KWAGALA JOANNA VICTOR   21     54   185.42           1\n",
      "3    4.0              mahoro cathy   23     30   185.42           1\n",
      "4    5.0  Mbabazi Hawa Bint Edrisa   19     59   175.26           1\n",
      "5    6.0       Nakanjako josephine   24     65   175.26           1\n",
      "6    7.0            Nanteza Dorcus   21     69   157.48           1\n",
      "7    8.0             Mbabazi Angel   19     57   167.64           1\n",
      "8    9.0            Namara Racheal   19     55   154.94           1\n",
      "9   10.0       Lwamulungi Sheillah   22     78   162.56           1\n",
      "10   NaN           Nakawuka Sandra   25     60   175.26           1\n",
      "11   NaN   Achola Gloria Fortunate   27     80   172.72           1\n",
      "12   NaN             Nagawa Esther   21     58   188.42           1\n",
      "13   NaN           wanjiku hananny   19     50    165.1           1\n",
      "14   NaN            babirye Sandra   21     50   175.26           1\n",
      "15   NaN          nakagga shanitah   21     50   175.26           1\n",
      "16   NaN    Wembabazi Vivian Ritah   20     49   160.02           1\n",
      "17   NaN   Nanziri Ritah Namayanja   23     70   162.56           1\n",
      "18   NaN            Nasejje Mariam   20     62    101.6           1\n",
      "19   NaN  Namukose Jolline Edriana   20     55   162.56           1\n",
      "20   NaN      Agatha Faith Anyango   27     55    93.98           1\n",
      "21   NaN              Kirabo Sarah   23     60    165.1           1\n",
      "22   NaN          Nansalire Anitah   21     45     63.5           1\n",
      "23   NaN             Nalugo gladys   19     70    101.6           1\n",
      "24   NaN            Namakula Allen   20     55   170.18           1\n",
      "25   NaN           Tukahirwa emily   22     67   175.26           1\n",
      "26   NaN            Shamirah Ahmed   21     67   137.16           1\n",
      "27   NaN          Ameso lmmaculate   23     64    165.1           1\n",
      "28   NaN                Ayoo Teddy   20     50   157.48           1\n",
      "29   NaN                Biira Mary   30     65   104.14           1\n",
      "30   NaN        Aloyo Brenda Ojera   23     52   170.18           1\n",
      "31   NaN        Ayebale Immaculate   24     50   162.56           1\n"
     ]
    }
   ],
   "source": [
    "df=pd.read_excel(r\"c:\\Users\\Student\\Desktop\\WITU COHORT 3\\YEAR ONE\\SEMITER ONE\\Data science\\data\\dataset.xlsx\")\n",
    "print(df)"
   ]
  },
  {
   "cell_type": "code",
   "execution_count": 33,
   "metadata": {},
   "outputs": [],
   "source": [
    "from scipy.stats import linregress"
   ]
  },
  {
   "cell_type": "code",
   "execution_count": 34,
   "metadata": {},
   "outputs": [],
   "source": [
    "height=df[\"height\"]"
   ]
  },
  {
   "cell_type": "code",
   "execution_count": 35,
   "metadata": {},
   "outputs": [],
   "source": [
    "weight=df[\"weight\"]"
   ]
  },
  {
   "cell_type": "code",
   "execution_count": 36,
   "metadata": {},
   "outputs": [
    {
     "ename": "TypeError",
     "evalue": "'>=' not supported between instances of 'str' and 'float'",
     "output_type": "error",
     "traceback": [
      "\u001b[1;31m---------------------------------------------------------------------------\u001b[0m",
      "\u001b[1;31mTypeError\u001b[0m                                 Traceback (most recent call last)",
      "\u001b[1;32mc:\\Users\\Student\\Desktop\\WITU COHORT 3\\YEAR ONE\\SEMITER ONE\\Data science\\baine datatypes\\execise 3 of MA\\exercise 6\\data estimatation.ipynb Cell 14\u001b[0m line \u001b[0;36m1\n\u001b[1;32m----> <a href='vscode-notebook-cell:/c%3A/Users/Student/Desktop/WITU%20COHORT%203/YEAR%20ONE/SEMITER%20ONE/Data%20science/baine%20datatypes/execise%203%20of%20MA/exercise%206/data%20estimatation.ipynb#X16sZmlsZQ%3D%3D?line=0'>1</a>\u001b[0m result\u001b[39m=\u001b[39mlinregress(height,weight)\n\u001b[0;32m      <a href='vscode-notebook-cell:/c%3A/Users/Student/Desktop/WITU%20COHORT%203/YEAR%20ONE/SEMITER%20ONE/Data%20science/baine%20datatypes/execise%203%20of%20MA/exercise%206/data%20estimatation.ipynb#X16sZmlsZQ%3D%3D?line=1'>2</a>\u001b[0m \u001b[39mprint\u001b[39m(result)\n",
      "File \u001b[1;32mc:\\Users\\Student\\AppData\\Local\\Programs\\Python\\Python311\\Lib\\site-packages\\scipy\\stats\\_stats_mstats_common.py:156\u001b[0m, in \u001b[0;36mlinregress\u001b[1;34m(x, y, alternative)\u001b[0m\n\u001b[0;32m    153\u001b[0m \u001b[39mif\u001b[39;00m x\u001b[39m.\u001b[39msize \u001b[39m==\u001b[39m \u001b[39m0\u001b[39m \u001b[39mor\u001b[39;00m y\u001b[39m.\u001b[39msize \u001b[39m==\u001b[39m \u001b[39m0\u001b[39m:\n\u001b[0;32m    154\u001b[0m     \u001b[39mraise\u001b[39;00m \u001b[39mValueError\u001b[39;00m(\u001b[39m\"\u001b[39m\u001b[39mInputs must not be empty.\u001b[39m\u001b[39m\"\u001b[39m)\n\u001b[1;32m--> 156\u001b[0m \u001b[39mif\u001b[39;00m np\u001b[39m.\u001b[39;49mamax(x) \u001b[39m==\u001b[39m np\u001b[39m.\u001b[39mamin(x) \u001b[39mand\u001b[39;00m \u001b[39mlen\u001b[39m(x) \u001b[39m>\u001b[39m \u001b[39m1\u001b[39m:\n\u001b[0;32m    157\u001b[0m     \u001b[39mraise\u001b[39;00m \u001b[39mValueError\u001b[39;00m(\u001b[39m\"\u001b[39m\u001b[39mCannot calculate a linear regression \u001b[39m\u001b[39m\"\u001b[39m\n\u001b[0;32m    158\u001b[0m                      \u001b[39m\"\u001b[39m\u001b[39mif all x values are identical\u001b[39m\u001b[39m\"\u001b[39m)\n\u001b[0;32m    160\u001b[0m n \u001b[39m=\u001b[39m \u001b[39mlen\u001b[39m(x)\n",
      "File \u001b[1;32mc:\\Users\\Student\\AppData\\Local\\Programs\\Python\\Python311\\Lib\\site-packages\\numpy\\core\\fromnumeric.py:2827\u001b[0m, in \u001b[0;36mamax\u001b[1;34m(a, axis, out, keepdims, initial, where)\u001b[0m\n\u001b[0;32m   2814\u001b[0m \u001b[39m@array_function_dispatch\u001b[39m(_max_dispatcher)\n\u001b[0;32m   2815\u001b[0m \u001b[39mdef\u001b[39;00m \u001b[39mamax\u001b[39m(a, axis\u001b[39m=\u001b[39m\u001b[39mNone\u001b[39;00m, out\u001b[39m=\u001b[39m\u001b[39mNone\u001b[39;00m, keepdims\u001b[39m=\u001b[39mnp\u001b[39m.\u001b[39m_NoValue, initial\u001b[39m=\u001b[39mnp\u001b[39m.\u001b[39m_NoValue,\n\u001b[0;32m   2816\u001b[0m          where\u001b[39m=\u001b[39mnp\u001b[39m.\u001b[39m_NoValue):\n\u001b[0;32m   2817\u001b[0m \u001b[39m    \u001b[39m\u001b[39m\"\"\"\u001b[39;00m\n\u001b[0;32m   2818\u001b[0m \u001b[39m    Return the maximum of an array or maximum along an axis.\u001b[39;00m\n\u001b[0;32m   2819\u001b[0m \n\u001b[1;32m   (...)\u001b[0m\n\u001b[0;32m   2825\u001b[0m \u001b[39m    ndarray.max : equivalent method\u001b[39;00m\n\u001b[0;32m   2826\u001b[0m \u001b[39m    \"\"\"\u001b[39;00m\n\u001b[1;32m-> 2827\u001b[0m     \u001b[39mreturn\u001b[39;00m _wrapreduction(a, np\u001b[39m.\u001b[39;49mmaximum, \u001b[39m'\u001b[39;49m\u001b[39mmax\u001b[39;49m\u001b[39m'\u001b[39;49m, axis, \u001b[39mNone\u001b[39;49;00m, out,\n\u001b[0;32m   2828\u001b[0m                           keepdims\u001b[39m=\u001b[39;49mkeepdims, initial\u001b[39m=\u001b[39;49minitial, where\u001b[39m=\u001b[39;49mwhere)\n",
      "File \u001b[1;32mc:\\Users\\Student\\AppData\\Local\\Programs\\Python\\Python311\\Lib\\site-packages\\numpy\\core\\fromnumeric.py:88\u001b[0m, in \u001b[0;36m_wrapreduction\u001b[1;34m(obj, ufunc, method, axis, dtype, out, **kwargs)\u001b[0m\n\u001b[0;32m     85\u001b[0m         \u001b[39melse\u001b[39;00m:\n\u001b[0;32m     86\u001b[0m             \u001b[39mreturn\u001b[39;00m reduction(axis\u001b[39m=\u001b[39maxis, out\u001b[39m=\u001b[39mout, \u001b[39m*\u001b[39m\u001b[39m*\u001b[39mpasskwargs)\n\u001b[1;32m---> 88\u001b[0m \u001b[39mreturn\u001b[39;00m ufunc\u001b[39m.\u001b[39;49mreduce(obj, axis, dtype, out, \u001b[39m*\u001b[39;49m\u001b[39m*\u001b[39;49mpasskwargs)\n",
      "\u001b[1;31mTypeError\u001b[0m: '>=' not supported between instances of 'str' and 'float'"
     ]
    }
   ],
   "source": [
    "result=linregress(height,weight)\n",
    "print(result)"
   ]
  }
 ],
 "metadata": {
  "kernelspec": {
   "display_name": "Python 3",
   "language": "python",
   "name": "python3"
  },
  "language_info": {
   "codemirror_mode": {
    "name": "ipython",
    "version": 3
   },
   "file_extension": ".py",
   "mimetype": "text/x-python",
   "name": "python",
   "nbconvert_exporter": "python",
   "pygments_lexer": "ipython3",
   "version": "3.11.4"
  }
 },
 "nbformat": 4,
 "nbformat_minor": 2
}
